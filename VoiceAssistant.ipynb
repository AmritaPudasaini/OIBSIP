{
 "cells": [
  {
   "cell_type": "markdown",
   "id": "23f0b510",
   "metadata": {},
   "source": [
    "# Install the libraries for recognizing the speech"
   ]
  },
  {
   "cell_type": "code",
   "execution_count": 5,
   "id": "c0162235",
   "metadata": {},
   "outputs": [
    {
     "name": "stdout",
     "output_type": "stream",
     "text": [
      "Requirement already satisfied: speechrecognition in c:\\users\\pudas\\anaconda3\\lib\\site-packages (3.14.3)\n",
      "Requirement already satisfied: pyttsx3 in c:\\users\\pudas\\anaconda3\\lib\\site-packages (2.98)\n",
      "Requirement already satisfied: pywhatkit in c:\\users\\pudas\\anaconda3\\lib\\site-packages (5.4)\n",
      "Requirement already satisfied: datetime in c:\\users\\pudas\\anaconda3\\lib\\site-packages (5.5)\n",
      "Collecting pipwin\n",
      "  Downloading pipwin-0.5.2.tar.gz (7.9 kB)\n",
      "  Preparing metadata (setup.py): started\n",
      "  Preparing metadata (setup.py): finished with status 'done'\n",
      "Requirement already satisfied: typing-extensions in c:\\users\\pudas\\anaconda3\\lib\\site-packages (from speechrecognition) (4.11.0)\n",
      "Requirement already satisfied: comtypes in c:\\users\\pudas\\anaconda3\\lib\\site-packages (from pyttsx3) (1.4.11)\n",
      "Requirement already satisfied: pypiwin32 in c:\\users\\pudas\\anaconda3\\lib\\site-packages (from pyttsx3) (223)\n",
      "Requirement already satisfied: pywin32 in c:\\users\\pudas\\appdata\\roaming\\python\\python312\\site-packages (from pyttsx3) (310)\n",
      "Requirement already satisfied: Pillow in c:\\users\\pudas\\anaconda3\\lib\\site-packages (from pywhatkit) (10.4.0)\n",
      "Requirement already satisfied: pyautogui in c:\\users\\pudas\\anaconda3\\lib\\site-packages (from pywhatkit) (0.9.54)\n",
      "Requirement already satisfied: requests in c:\\users\\pudas\\anaconda3\\lib\\site-packages (from pywhatkit) (2.32.3)\n",
      "Requirement already satisfied: wikipedia in c:\\users\\pudas\\anaconda3\\lib\\site-packages (from pywhatkit) (1.4.0)\n",
      "Requirement already satisfied: Flask in c:\\users\\pudas\\anaconda3\\lib\\site-packages (from pywhatkit) (3.0.3)\n",
      "Requirement already satisfied: zope.interface in c:\\users\\pudas\\anaconda3\\lib\\site-packages (from datetime) (5.4.0)\n",
      "Requirement already satisfied: pytz in c:\\users\\pudas\\anaconda3\\lib\\site-packages (from datetime) (2024.1)\n",
      "Collecting docopt (from pipwin)\n",
      "  Downloading docopt-0.6.2.tar.gz (25 kB)\n",
      "  Preparing metadata (setup.py): started\n",
      "  Preparing metadata (setup.py): finished with status 'done'\n",
      "Collecting pyprind (from pipwin)\n",
      "  Downloading PyPrind-2.11.3-py2.py3-none-any.whl.metadata (1.1 kB)\n",
      "Requirement already satisfied: six in c:\\users\\pudas\\appdata\\roaming\\python\\python312\\site-packages (from pipwin) (1.17.0)\n",
      "Requirement already satisfied: beautifulsoup4>=4.9.0 in c:\\users\\pudas\\anaconda3\\lib\\site-packages (from pipwin) (4.12.3)\n",
      "Collecting js2py (from pipwin)\n",
      "  Downloading Js2Py-0.74-py3-none-any.whl.metadata (868 bytes)\n",
      "Requirement already satisfied: packaging in c:\\users\\pudas\\appdata\\roaming\\python\\python312\\site-packages (from pipwin) (25.0)\n",
      "Collecting pySmartDL>=1.3.1 (from pipwin)\n",
      "  Downloading pySmartDL-1.3.4-py3-none-any.whl.metadata (2.8 kB)\n",
      "Requirement already satisfied: soupsieve>1.2 in c:\\users\\pudas\\anaconda3\\lib\\site-packages (from beautifulsoup4>=4.9.0->pipwin) (2.5)\n",
      "Requirement already satisfied: Werkzeug>=3.0.0 in c:\\users\\pudas\\anaconda3\\lib\\site-packages (from Flask->pywhatkit) (3.0.3)\n",
      "Requirement already satisfied: Jinja2>=3.1.2 in c:\\users\\pudas\\anaconda3\\lib\\site-packages (from Flask->pywhatkit) (3.1.4)\n",
      "Requirement already satisfied: itsdangerous>=2.1.2 in c:\\users\\pudas\\anaconda3\\lib\\site-packages (from Flask->pywhatkit) (2.2.0)\n",
      "Requirement already satisfied: click>=8.1.3 in c:\\users\\pudas\\anaconda3\\lib\\site-packages (from Flask->pywhatkit) (8.1.7)\n",
      "Requirement already satisfied: blinker>=1.6.2 in c:\\users\\pudas\\anaconda3\\lib\\site-packages (from Flask->pywhatkit) (1.6.2)\n",
      "Collecting tzlocal>=1.2 (from js2py->pipwin)\n",
      "  Downloading tzlocal-5.3.1-py3-none-any.whl.metadata (7.6 kB)\n",
      "Collecting pyjsparser>=2.5.1 (from js2py->pipwin)\n",
      "  Downloading pyjsparser-2.7.1.tar.gz (24 kB)\n",
      "  Preparing metadata (setup.py): started\n",
      "  Preparing metadata (setup.py): finished with status 'done'\n",
      "Requirement already satisfied: pymsgbox in c:\\users\\pudas\\anaconda3\\lib\\site-packages (from pyautogui->pywhatkit) (1.0.9)\n",
      "Requirement already satisfied: pytweening>=1.0.4 in c:\\users\\pudas\\anaconda3\\lib\\site-packages (from pyautogui->pywhatkit) (1.2.0)\n",
      "Requirement already satisfied: pyscreeze>=0.1.21 in c:\\users\\pudas\\anaconda3\\lib\\site-packages (from pyautogui->pywhatkit) (1.0.1)\n",
      "Requirement already satisfied: pygetwindow>=0.0.5 in c:\\users\\pudas\\anaconda3\\lib\\site-packages (from pyautogui->pywhatkit) (0.0.9)\n",
      "Requirement already satisfied: mouseinfo in c:\\users\\pudas\\anaconda3\\lib\\site-packages (from pyautogui->pywhatkit) (0.1.3)\n",
      "Requirement already satisfied: charset-normalizer<4,>=2 in c:\\users\\pudas\\anaconda3\\lib\\site-packages (from requests->pywhatkit) (3.3.2)\n",
      "Requirement already satisfied: idna<4,>=2.5 in c:\\users\\pudas\\anaconda3\\lib\\site-packages (from requests->pywhatkit) (3.7)\n",
      "Requirement already satisfied: urllib3<3,>=1.21.1 in c:\\users\\pudas\\anaconda3\\lib\\site-packages (from requests->pywhatkit) (2.2.3)\n",
      "Requirement already satisfied: certifi>=2017.4.17 in c:\\users\\pudas\\anaconda3\\lib\\site-packages (from requests->pywhatkit) (2024.8.30)\n",
      "Requirement already satisfied: setuptools in c:\\users\\pudas\\anaconda3\\lib\\site-packages (from zope.interface->datetime) (75.1.0)\n",
      "Requirement already satisfied: colorama in c:\\users\\pudas\\appdata\\roaming\\python\\python312\\site-packages (from click>=8.1.3->Flask->pywhatkit) (0.4.6)\n",
      "Requirement already satisfied: MarkupSafe>=2.0 in c:\\users\\pudas\\anaconda3\\lib\\site-packages (from Jinja2>=3.1.2->Flask->pywhatkit) (2.1.3)\n",
      "Requirement already satisfied: pyrect in c:\\users\\pudas\\anaconda3\\lib\\site-packages (from pygetwindow>=0.0.5->pyautogui->pywhatkit) (0.2.0)\n",
      "Requirement already satisfied: tzdata in c:\\users\\pudas\\anaconda3\\lib\\site-packages (from tzlocal>=1.2->js2py->pipwin) (2023.3)\n",
      "Requirement already satisfied: pyperclip in c:\\users\\pudas\\anaconda3\\lib\\site-packages (from mouseinfo->pyautogui->pywhatkit) (1.9.0)\n",
      "Downloading pySmartDL-1.3.4-py3-none-any.whl (20 kB)\n",
      "Downloading Js2Py-0.74-py3-none-any.whl (1.0 MB)\n",
      "   ---------------------------------------- 0.0/1.0 MB ? eta -:--:--\n",
      "   ------------------------------ --------- 0.8/1.0 MB 8.3 MB/s eta 0:00:01\n",
      "   ---------------------------------------- 1.0/1.0 MB 7.0 MB/s eta 0:00:00\n",
      "Downloading PyPrind-2.11.3-py2.py3-none-any.whl (8.4 kB)\n",
      "Downloading tzlocal-5.3.1-py3-none-any.whl (18 kB)\n",
      "Building wheels for collected packages: pipwin, docopt, pyjsparser\n",
      "  Building wheel for pipwin (setup.py): started\n",
      "  Building wheel for pipwin (setup.py): finished with status 'done'\n",
      "  Created wheel for pipwin: filename=pipwin-0.5.2-py2.py3-none-any.whl size=8795 sha256=d1545a2ce8c7b6ce789bc94605c9bdc27c502822c923b98e44b88cbf5b6d9fdf\n",
      "  Stored in directory: c:\\users\\pudas\\appdata\\local\\pip\\cache\\wheels\\e8\\b5\\1d\\b94f69a230c016fe50ed36399dec48b34b82a11e4f344e9ccb\n",
      "  Building wheel for docopt (setup.py): started\n",
      "  Building wheel for docopt (setup.py): finished with status 'done'\n",
      "  Created wheel for docopt: filename=docopt-0.6.2-py2.py3-none-any.whl size=13775 sha256=584ed45f1c5d40f4f49ac8e66898b7ed71b402e8ea1b027ea11098839eec210e\n",
      "  Stored in directory: c:\\users\\pudas\\appdata\\local\\pip\\cache\\wheels\\1a\\bf\\a1\\4cee4f7678c68c5875ca89eaccf460593539805c3906722228\n",
      "  Building wheel for pyjsparser (setup.py): started\n",
      "  Building wheel for pyjsparser (setup.py): finished with status 'done'\n",
      "  Created wheel for pyjsparser: filename=pyjsparser-2.7.1-py3-none-any.whl size=25989 sha256=b94757b24ebf68e0f9eb91a66f2c370f8b651f4f87c732eec1cdf895d36fd941\n",
      "  Stored in directory: c:\\users\\pudas\\appdata\\local\\pip\\cache\\wheels\\14\\32\\1d\\9ef7b582e358446aeef4b9052aa89ef4dffa1688c1aae8aa13\n",
      "Successfully built pipwin docopt pyjsparser\n",
      "Installing collected packages: pySmartDL, pyprind, pyjsparser, docopt, tzlocal, js2py, pipwin\n",
      "Successfully installed docopt-0.6.2 js2py-0.74 pipwin-0.5.2 pySmartDL-1.3.4 pyjsparser-2.7.1 pyprind-2.11.3 tzlocal-5.3.1\n"
     ]
    }
   ],
   "source": [
    "! pip install speechrecognition pyttsx3 pywhatkit datetime pipwin"
   ]
  },
  {
   "cell_type": "markdown",
   "id": "0f852f8c",
   "metadata": {},
   "source": [
    "# Install the Pyaudio"
   ]
  },
  {
   "cell_type": "code",
   "execution_count": 16,
   "id": "58ab3907",
   "metadata": {},
   "outputs": [
    {
     "name": "stdout",
     "output_type": "stream",
     "text": [
      "Processing c:\\users\\pudas\\oibsip\\pyaudio-0.2.14-cp312-cp312-win_amd64.whl\n",
      "Installing collected packages: PyAudio\n",
      "Successfully installed PyAudio-0.2.14\n"
     ]
    }
   ],
   "source": [
    "!pip install PyAudio-0.2.14-cp312-cp312-win_amd64.whl"
   ]
  },
  {
   "cell_type": "markdown",
   "id": "f9546769",
   "metadata": {},
   "source": [
    "# Import Libraries"
   ]
  },
  {
   "cell_type": "code",
   "execution_count": null,
   "id": "d8d7d306",
   "metadata": {},
   "outputs": [],
   "source": [
    "import speech_recognition as sr\n",
    "import pyttsx3\n",
    "import pywhatkit\n",
    "import datetime\n",
    "import pyaudio "
   ]
  },
  {
   "cell_type": "markdown",
   "id": "b1db6cd8",
   "metadata": {},
   "source": [
    "# Initialize Text-to-Speech"
   ]
  },
  {
   "cell_type": "code",
   "execution_count": null,
   "id": "1788cb11",
   "metadata": {},
   "outputs": [],
   "source": [
    "engine = pyttsx3.init()"
   ]
  },
  {
   "cell_type": "code",
   "execution_count": null,
   "id": "9e2d480e",
   "metadata": {},
   "outputs": [],
   "source": [
    "#Speak Function\n",
    "def speak(text):\n",
    "    engine.say(text)\n",
    "    engine.runAndWait()\n",
    "\n",
    "#Listen Function (Voice to Text)\n",
    "\n"
   ]
  }
 ],
 "metadata": {
  "kernelspec": {
   "display_name": "base",
   "language": "python",
   "name": "python3"
  },
  "language_info": {
   "codemirror_mode": {
    "name": "ipython",
    "version": 3
   },
   "file_extension": ".py",
   "mimetype": "text/x-python",
   "name": "python",
   "nbconvert_exporter": "python",
   "pygments_lexer": "ipython3",
   "version": "3.12.7"
  }
 },
 "nbformat": 4,
 "nbformat_minor": 5
}
